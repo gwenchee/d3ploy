{
 "cells": [
  {
   "cell_type": "code",
   "execution_count": 9,
   "metadata": {},
   "outputs": [],
   "source": [
    "import d3ploy.tester as tester\n",
    "import d3ploy.plotter as plotter\n",
    "import matplotlib.pyplot as plt\n",
    "import pandas as pd"
   ]
  },
  {
   "cell_type": "code",
   "execution_count": 46,
   "metadata": {},
   "outputs": [],
   "source": [
    "output_file = 'eg01-eg23-flatpower-d3ploy-buffer0-ma.sqlite'\n",
    "demand_eq = '60000'\n",
    "commods = ['sourceout','enrichmentout','mixerout','power']"
   ]
  },
  {
   "cell_type": "code",
   "execution_count": 47,
   "metadata": {},
   "outputs": [],
   "source": [
    "all_dict_power = tester.supply_demand_dict_driving(output_file, demand_eq, 'power')\n",
    "all_dict_sfrfuel = tester.supply_demand_dict_nondriving(output_file, 'mixerout', True, calc=False)\n",
    "all_dict_lwrfuel = tester.supply_demand_dict_nondriving(output_file, 'enrichmentout', True, calc=False)\n",
    "all_dict_natlu = tester.supply_demand_dict_nondriving(output_file, 'sourceout', True,calc=False)"
   ]
  },
  {
   "cell_type": "code",
   "execution_count": 48,
   "metadata": {},
   "outputs": [],
   "source": [
    "def supplydemanddiff(all_dict):\n",
    "    \n",
    "    dict_demand = all_dict['dict_demand']\n",
    "    dict_supply = all_dict['dict_supply']\n",
    "    diff_dict = {}\n",
    "    for key in dict_demand: \n",
    "        diff_dict[key] = dict_supply[key] - dict_demand[key] \n",
    "    return diff_dict"
   ]
  },
  {
   "cell_type": "code",
   "execution_count": 49,
   "metadata": {},
   "outputs": [],
   "source": [
    "power_diff_dict = supplydemanddiff(all_dict_power)\n",
    "sfrfuel_diff_dict = supplydemanddiff(all_dict_sfrfuel)\n",
    "lwrfuel_diff_dict = supplydemanddiff(all_dict_lwrfuel)\n",
    "natlu_diff_dict = supplydemanddiff(all_dict_natlu)"
   ]
  },
  {
   "cell_type": "code",
   "execution_count": 50,
   "metadata": {},
   "outputs": [],
   "source": [
    "power_dict_dots = {}\n",
    "sfrfuel_dict_dots = {}\n",
    "lwrfuel_dict_dots = {}\n",
    "natlu_dict_dots = {}\n",
    "for key in power_diff_dict: \n",
    "    if power_diff_dict[key] < 0: \n",
    "        power_dict_dots[key] = 4\n",
    "for key in sfrfuel_diff_dict: \n",
    "    if sfrfuel_diff_dict[key] < 0: \n",
    "        sfrfuel_dict_dots[key] = 3\n",
    "for key in lwrfuel_diff_dict: \n",
    "    if lwrfuel_diff_dict[key] < 0: \n",
    "        lwrfuel_dict_dots[key] = 2\n",
    "for key in natlu_diff_dict: \n",
    "    if natlu_diff_dict[key] < 0: \n",
    "        natlu_dict_dots[key] = 1"
   ]
  },
  {
   "cell_type": "code",
   "execution_count": 51,
   "metadata": {},
   "outputs": [
    {
     "data": {
      "image/png": "[encoded data removed]",
      "text/plain": [
       "<Figure size 1080x504 with 1 Axes>"
      ]
     },
     "metadata": {
      "needs_background": "light"
     },
     "output_type": "display_data"
    }
   ],
   "source": [
    "fig, ax = plt.subplots(figsize=(15, 7))\n",
    "ax.plot(*zip(*sorted(natlu_dict_dots.items())),'*')\n",
    "ax.plot(*zip(*sorted(lwrfuel_dict_dots.items())),'*')\n",
    "ax.plot(*zip(*sorted(sfrfuel_dict_dots.items())),'*')\n",
    "ax.plot(*zip(*sorted(power_dict_dots.items())),'*')\n",
    "ax.set_yticks([1,2,3,4])\n",
    "fig.canvas.draw()\n",
    "labels = [item.get_text() for item in ax.get_yticklabels()]\n",
    "labels[0] = 'NatlU'\n",
    "labels[1] = 'LWRFuel'\n",
    "labels[2] = 'SFRFuel'\n",
    "labels[3] = 'Power'\n",
    "ax.set_yticklabels(labels)\n",
    "plt.show()"
   ]
  },
  {
   "cell_type": "code",
   "execution_count": 52,
   "metadata": {},
   "outputs": [],
   "source": [
    "for key in power_diff_dict:\n",
    "    if power_diff_dict[key] > 0: \n",
    "        power_diff_dict[key] = 0 \n",
    "    if power_diff_dict[key] < 0: \n",
    "        power_diff_dict[key] = -power_diff_dict[key]\n",
    "        \n",
    "for key in sfrfuel_diff_dict:\n",
    "    if sfrfuel_diff_dict[key] > 0: \n",
    "        sfrfuel_diff_dict[key] = 0 \n",
    "    if sfrfuel_diff_dict[key] < 0: \n",
    "        sfrfuel_diff_dict[key] = -sfrfuel_diff_dict[key]\n",
    "        \n",
    "for key in lwrfuel_diff_dict:\n",
    "    if lwrfuel_diff_dict[key] > 0: \n",
    "        lwrfuel_diff_dict[key] = 0 \n",
    "    if lwrfuel_diff_dict[key] < 0: \n",
    "        lwrfuel_diff_dict[key] = -lwrfuel_diff_dict[key]\n",
    "        \n",
    "for key in natlu_diff_dict:\n",
    "    if natlu_diff_dict[key] > 0: \n",
    "        natlu_diff_dict[key] = 0 \n",
    "    if natlu_diff_dict[key] < 0: \n",
    "        natlu_diff_dict[key] = -lwrfuel_diff_dict[key]"
   ]
  },
  {
   "cell_type": "code",
   "execution_count": 53,
   "metadata": {},
   "outputs": [
    {
     "data": {
      "image/png": "[encoded data removed]",
      "text/plain": [
       "<Figure size 432x288 with 1 Axes>"
      ]
     },
     "metadata": {
      "needs_background": "light"
     },
     "output_type": "display_data"
    }
   ],
   "source": [
    "fig, ax = plt.subplots()\n",
    "ax.stackplot(list(power_diff_dict.keys()), list(power_diff_dict.values()),list(lwrfuel_diff_dict.values()))\n",
    "plt.show()"
   ]
  },
  {
   "cell_type": "code",
   "execution_count": null,
   "metadata": {},
   "outputs": [],
   "source": []
  }
 ],
 "metadata": {
  "kernelspec": {
   "display_name": "Python 3",
   "language": "python",
   "name": "python3"
  },
  "language_info": {
   "codemirror_mode": {
    "name": "ipython",
    "version": 3
   },
   "file_extension": ".py",
   "mimetype": "text/x-python",
   "name": "python",
   "nbconvert_exporter": "python",
   "pygments_lexer": "ipython3",
   "version": "3.6.7"
  }
 },
 "nbformat": 4,
 "nbformat_minor": 4
}
